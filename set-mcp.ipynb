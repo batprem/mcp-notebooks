{
  "cells": [
    {
      "cell_type": "markdown",
      "metadata": {
        "id": "0Joft2qcYsDo"
      },
      "source": [
        "# OLLAMA server on google COLAB\n",
        "\n",
        "This project servers as an Ollama server on google Colab and utilizes ngrok to expose the endpoint.\n"
      ]
    },
    {
      "cell_type": "markdown",
      "metadata": {
        "id": "mHP_08IF-8_8"
      },
      "source": [
        "## Step 1: Installing UV\n"
      ]
    },
    {
      "cell_type": "code",
      "execution_count": 1,
      "metadata": {
        "id": "25-0au_X1aqv",
        "outputId": "1cdf63c7-2c17-4204-d913-2e3571e9a711",
        "colab": {
          "base_uri": "https://localhost:8080/"
        }
      },
      "outputs": [
        {
          "output_type": "stream",
          "name": "stdout",
          "text": [
            "downloading uv 0.6.14 x86_64-unknown-linux-gnu\n",
            "no checksums to verify\n",
            "installing to /usr/local/bin\n",
            "  uv\n",
            "  uvx\n",
            "everything's installed!\n"
          ]
        }
      ],
      "source": [
        "!curl -LsSf https://astral.sh/uv/install.sh | sh"
      ]
    },
    {
      "cell_type": "markdown",
      "metadata": {
        "id": "NYkhRjhx_F4H"
      },
      "source": [
        "## Step 2: Installing ngrok\n",
        "\n",
        "### Download:"
      ]
    },
    {
      "cell_type": "code",
      "execution_count": 5,
      "metadata": {
        "id": "LNYfWAAu2NGe",
        "outputId": "8082cd9b-981c-4ba1-b141-ae93ed2fd884",
        "colab": {
          "base_uri": "https://localhost:8080/"
        }
      },
      "outputs": [
        {
          "output_type": "stream",
          "name": "stdout",
          "text": [
            "--2025-04-17 15:13:55--  https://bin.equinox.io/c/bNyj1mQVY4c/ngrok-v3-stable-linux-amd64.tgz\n",
            "Resolving bin.equinox.io (bin.equinox.io)... 99.83.220.108, 13.248.244.96, 35.71.179.82, ...\n",
            "Connecting to bin.equinox.io (bin.equinox.io)|99.83.220.108|:443... connected.\n",
            "HTTP request sent, awaiting response... 200 OK\n",
            "Length: 9395172 (9.0M) [application/octet-stream]\n",
            "Saving to: ‘ngrok-v3-stable-linux-amd64.tgz’\n",
            "\n",
            "ngrok-v3-stable-lin 100%[===================>]   8.96M  10.9MB/s    in 0.8s    \n",
            "\n",
            "2025-04-17 15:13:57 (10.9 MB/s) - ‘ngrok-v3-stable-linux-amd64.tgz’ saved [9395172/9395172]\n",
            "\n"
          ]
        }
      ],
      "source": [
        "!wget https://bin.equinox.io/c/bNyj1mQVY4c/ngrok-v3-stable-linux-amd64.tgz"
      ]
    },
    {
      "cell_type": "markdown",
      "metadata": {
        "id": "6cFDYwIQ_wjV"
      },
      "source": [
        "### Extract the bin file:"
      ]
    },
    {
      "cell_type": "code",
      "execution_count": 6,
      "metadata": {
        "id": "dzkwuFOl2mLa",
        "outputId": "07006dab-7b76-41c7-d1ba-76000e77d72f",
        "colab": {
          "base_uri": "https://localhost:8080/"
        }
      },
      "outputs": [
        {
          "output_type": "stream",
          "name": "stdout",
          "text": [
            "ngrok\n"
          ]
        }
      ],
      "source": [
        "!tar xvzf ngrok-v3-stable-linux-amd64.tgz ngrok"
      ]
    },
    {
      "cell_type": "markdown",
      "metadata": {
        "id": "CJNBtefI_5LR"
      },
      "source": [
        "### Set the auth token\n",
        "\n",
        "a ngrok auth token must be aquired in order to use it.  \n",
        "\n",
        "Follow the instruction below:  \n",
        "https://ngrok.com/docs/getting-started/  \n",
        "\n",
        "Then replace your AuthToken with `<NGROK_AUTH_TOKEN>` below:\n"
      ]
    },
    {
      "cell_type": "code",
      "source": [
        "from google.colab import userdata\n",
        "import os\n",
        "\n",
        "\n",
        "assert os.system(f\"./ngrok authtoken {userdata.get('NGROK_AUTH_TOKEN')}\") == 0"
      ],
      "metadata": {
        "id": "z7eObojuVC-V",
        "outputId": "1a45a503-3aeb-440f-ce1e-c25fca923811",
        "colab": {
          "base_uri": "https://localhost:8080/"
        }
      },
      "execution_count": 14,
      "outputs": [
        {
          "output_type": "execute_result",
          "data": {
            "text/plain": [
              "0"
            ]
          },
          "metadata": {},
          "execution_count": 14
        }
      ]
    },
    {
      "cell_type": "markdown",
      "metadata": {
        "id": "nBBM9_aTEpxR"
      },
      "source": [
        "## Start server\n",
        "\n",
        "After pulling the selected model (in this example llama3) an endpoint will be created which can be used to access to ollama api.   \n",
        "**You can also find the endpoint inside your ngrok panel: https://dashboard.ngrok.com/cloud-edge/endpoints**\n"
      ]
    },
    {
      "cell_type": "code",
      "execution_count": null,
      "metadata": {
        "id": "4X4a_EOl3VQe",
        "outputId": "d43c1dd4-3169-44f9-9b5b-1da4c711cca7",
        "colab": {
          "base_uri": "https://localhost:8080/"
        }
      },
      "outputs": [
        {
          "output_type": "stream",
          "name": "stdout",
          "text": [
            "\u001b[32mINFO\u001b[0m[04-17|15:25:17] no configuration paths supplied \n",
            "\u001b[32mINFO\u001b[0m[04-17|15:25:17] using configuration at default config path \u001b[32mpath\u001b[0m=/root/.config/ngrok/ngrok.yml\n",
            "\u001b[32mINFO\u001b[0m[04-17|15:25:17] open config file                         \u001b[32mpath\u001b[0m=/root/.config/ngrok/ngrok.yml \u001b[32merr\u001b[0m=nil\n",
            "t=2025-04-17T15:25:17+0000 lvl=info msg=\"starting web service\" obj=web addr=127.0.0.1:4040 allow_hosts=[]\n",
            "t=2025-04-17T15:25:17+0000 lvl=info msg=\"client session established\" obj=tunnels.session\n",
            "t=2025-04-17T15:25:17+0000 lvl=info msg=\"tunnel session started\" obj=tunnels.session\n",
            "t=2025-04-17T15:25:17+0000 lvl=info msg=\"started tunnel\" obj=tunnels name=command_line addr=http://localhost:8000 url=https://939c-34-13-135-12.ngrok-free.app\n",
            "t=2025-04-17T15:25:21+0000 lvl=warn msg=\"failed to open private leg\" id=2547500a5350 privaddr=localhost:8000 err=\"dial tcp 127.0.0.1:8000: connect: connection refused\"\n",
            "\u001b[2Kt=2025-04-17T15:25:22+0000 lvl=warn msg=\"failed to open private leg\" id=97ab5bb26873 privaddr=localhost:8000 err=\"dial tcp 127.0.0.1:8000: connect: connection refused\"\n",
            "\u001b[32mINFO\u001b[0m:     Started server process [\u001b[36m4552\u001b[0m]\n",
            "\u001b[32mINFO\u001b[0m:     Waiting for application startup.\n",
            "\u001b[32mINFO\u001b[0m:     Application startup complete.\n",
            "\u001b[32mINFO\u001b[0m:     Uvicorn running on \u001b[1mhttp://0.0.0.0:8000\u001b[0m (Press CTRL+C to quit)\n",
            "t=2025-04-17T15:25:29+0000 lvl=info msg=\"join connections\" obj=join id=de2e649cd8bf l=127.0.0.1:8000 r=[2405:9800:b870:45bd:21d8:1958:3353:3a20]:60493\n",
            "\u001b[32mINFO\u001b[0m:     2405:9800:b870:45bd:21d8:1958:3353:3a20:0 - \"\u001b[1mGET / HTTP/1.1\u001b[0m\" \u001b[31m404 Not Found\u001b[0m\n",
            "\u001b[32mINFO\u001b[0m:     2405:9800:b870:45bd:21d8:1958:3353:3a20:0 - \"\u001b[1mGET /favicon.ico HTTP/1.1\u001b[0m\" \u001b[31m404 Not Found\u001b[0m\n",
            "\u001b[32mINFO\u001b[0m:     2405:9800:b870:45bd:21d8:1958:3353:3a20:0 - \"\u001b[1mGET /sse HTTP/1.1\u001b[0m\" \u001b[32m200 OK\u001b[0m\n",
            "t=2025-04-17T15:27:04+0000 lvl=info msg=\"join connections\" obj=join id=11f24b1bb0c6 l=127.0.0.1:8000 r=4.182.64.76:19456\n",
            "\u001b[32mINFO\u001b[0m:     4.182.64.76:0 - \"\u001b[1mGET /sse HTTP/1.1\u001b[0m\" \u001b[32m200 OK\u001b[0m\n",
            "t=2025-04-17T15:27:04+0000 lvl=info msg=\"join connections\" obj=join id=de05083450eb l=127.0.0.1:8000 r=4.182.64.76:19457\n",
            "\u001b[32mINFO\u001b[0m:     4.182.64.76:0 - \"\u001b[1mPOST /messages/?session_id=46ad1a260e5944cfb2ecdbaf678b014b HTTP/1.1\u001b[0m\" \u001b[32m202 Accepted\u001b[0m\n",
            "\u001b[32mINFO\u001b[0m:     4.182.64.76:0 - \"\u001b[1mPOST /messages/?session_id=46ad1a260e5944cfb2ecdbaf678b014b HTTP/1.1\u001b[0m\" \u001b[32m202 Accepted\u001b[0m\n",
            "t=2025-04-17T15:27:04+0000 lvl=info msg=\"join connections\" obj=join id=0d191dce17df l=127.0.0.1:8000 r=4.182.64.76:19456\n",
            "\u001b[32mINFO\u001b[0m:     4.182.64.76:0 - \"\u001b[1mPOST /messages/?session_id=46ad1a260e5944cfb2ecdbaf678b014b HTTP/1.1\u001b[0m\" \u001b[32m202 Accepted\u001b[0m\n"
          ]
        }
      ],
      "source": [
        "!./ngrok http 8000 --host-header=\"localhost:8000\" --log stdout & sleep 5s && uvx --prerelease allow set-mcp --transport sse"
      ]
    }
  ],
  "metadata": {
    "accelerator": "GPU",
    "colab": {
      "collapsed_sections": [
        "nBBM9_aTEpxR"
      ],
      "gpuType": "T4",
      "provenance": []
    },
    "kernelspec": {
      "display_name": "Python 3",
      "name": "python3"
    },
    "language_info": {
      "name": "python",
      "version": "3.12.3"
    }
  },
  "nbformat": 4,
  "nbformat_minor": 0
}